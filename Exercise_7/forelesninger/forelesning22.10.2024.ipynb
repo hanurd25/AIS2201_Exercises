{
 "cells": [
  {
   "cell_type": "code",
   "execution_count": null,
   "id": "initial_id",
   "metadata": {
    "collapsed": true
   },
   "outputs": [],
   "source": [
    "#Cryss correlation"
   ]
  },
  {
   "cell_type": "code",
   "outputs": [],
   "source": [
    "#derivasjonsfilter for kantdeteksjon i bilder"
   ],
   "metadata": {
    "collapsed": false
   },
   "id": "5fab713b4aee4507"
  },
  {
   "cell_type": "code",
   "outputs": [],
   "source": [
    "#regne ut correlasjon i python:\n",
    "#Bruk numpy correlate"
   ],
   "metadata": {
    "collapsed": false
   },
   "id": "cd1f0699e3dde7c7"
  },
  {
   "cell_type": "code",
   "outputs": [],
   "source": [
    "#Auto korrelasjon av kronglete og kompliserte signal"
   ],
   "metadata": {
    "collapsed": false
   },
   "id": "b849681e15434fa7"
  }
 ],
 "metadata": {
  "kernelspec": {
   "display_name": "Python 3",
   "language": "python",
   "name": "python3"
  },
  "language_info": {
   "codemirror_mode": {
    "name": "ipython",
    "version": 2
   },
   "file_extension": ".py",
   "mimetype": "text/x-python",
   "name": "python",
   "nbconvert_exporter": "python",
   "pygments_lexer": "ipython2",
   "version": "2.7.6"
  }
 },
 "nbformat": 4,
 "nbformat_minor": 5
}
