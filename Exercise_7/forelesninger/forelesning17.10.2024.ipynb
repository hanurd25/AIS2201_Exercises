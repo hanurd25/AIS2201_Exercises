{
 "cells": [
  {
   "cell_type": "code",
   "execution_count": null,
   "id": "initial_id",
   "metadata": {
    "collapsed": true
   },
   "outputs": [],
   "source": [
    "import numpy as np\n",
    "\n",
    "\n",
    "def convolve(x: np.ndarray, h: np.ndarray):\n",
    "    L_x = len(x)\n",
    "    M = len(h)\n",
    "    L_out = L_x + M - 1\n",
    "    y = np.zeros(L_out)\n",
    "    for n in range(L_out):\n",
    "        y[n] = np.sum(h[max(0, n-L_x):min(n,M)]*x[min(n, L_x-1):n-min(n,M):-1])\n",
    "        # vil fungeren fint ved full overlapping\n",
    "        \n",
    "    return y\n",
    "\n",
    "\n",
    "x = np.ones(10)\n",
    "convolve(x, x)\n",
    "\n",
    "\n",
    "\n",
    "def convolve(x: np.ndarray, h: np.ndarray):\n",
    "    L_x = len(x)\n",
    "    M = len(h)\n",
    "    L_out = L_x + M - 1\n",
    "    y = np.zeros(L_out)\n",
    "    for n in range(L_out):\n",
    "        k_start = max(n-M+1, 0)\n",
    "        k_stop = min(N, n+1)\n",
    "        for k in range(k_start, k_stop):\n",
    "        y[n] += #lololololololololololololololololo\n",
    "        \n",
    "        # vil fungeren fint ved full overlapping\n",
    "        \n",
    "    return y\n",
    "        \n",
    "        \n",
    "#python har convolve funksjonen som gjør dett for oss\n",
    "        "
   ]
  },
  {
   "cell_type": "code",
   "outputs": [
    {
     "ename": "NameError",
     "evalue": "name 'freq_detection' is not defined",
     "output_type": "error",
     "traceback": [
      "\u001B[1;31m---------------------------------------------------------------------------\u001B[0m",
      "\u001B[1;31mNameError\u001B[0m                                 Traceback (most recent call last)",
      "Cell \u001B[1;32mIn[1], line 24\u001B[0m\n\u001B[0;32m     21\u001B[0m x_n \u001B[38;5;241m=\u001B[39m signal\u001B[38;5;241m+\u001B[39mnoise  \u001B[38;5;66;03m# Add noise to pure sine to create simulated signal\u001B[39;00m\n\u001B[0;32m     23\u001B[0m \u001B[38;5;66;03m# Plot detected frequency vs. true frequency\u001B[39;00m\n\u001B[1;32m---> 24\u001B[0m t_est, f_est \u001B[38;5;241m=\u001B[39m \u001B[43mfreq_detection\u001B[49m(x_n, fs)\n\u001B[0;32m     26\u001B[0m plt\u001B[38;5;241m.\u001B[39mclose(\u001B[38;5;241m1\u001B[39m); plt\u001B[38;5;241m.\u001B[39mfigure(\u001B[38;5;241m1\u001B[39m)\n\u001B[0;32m     27\u001B[0m plt\u001B[38;5;241m.\u001B[39mplot(t_est, f_est, label\u001B[38;5;241m=\u001B[39m\u001B[38;5;124m\"\u001B[39m\u001B[38;5;124mFrequency estimates\u001B[39m\u001B[38;5;124m\"\u001B[39m)\n",
      "\u001B[1;31mNameError\u001B[0m: name 'freq_detection' is not defined"
     ]
    }
   ],
   "source": [
    "#Burde klone øving 7 på nytt igjen ettersom at kai har let til mer forklarende tekst.\n",
    "#\n",
    "#\n",
    "# FIR FILTER\n",
    "#\n",
    "#\n",
    "\n",
    "import matplotlib.pyplot as plt\n",
    "# Test parameters \n",
    "fs = 10_000  # Samples/second\n",
    "N = 4*fs  # Samples \n",
    "f = 435  # Hertz\n",
    "A = 1  # Volts\n",
    "noise_var = 1 # V^2\n",
    "\n",
    "# Generate test signal\n",
    "import numpy as np\n",
    "t_n = np.arange(N)/fs  # Array of sample times\n",
    "signal = A*np.sin(2*np.pi*f*t_n) # Pure sine tone \n",
    "noise = np.random.normal(scale=np.sqrt(noise_var), size=N)  # Gaussian noise\n",
    "x_n = signal+noise  # Add noise to pure sine to create simulated signal\n",
    "\n",
    "# Plot detected frequency vs. true frequency\n",
    "t_est, f_est = freq_detection(x_n, fs)\n",
    "\n",
    "plt.close(1); plt.figure(1)\n",
    "plt.plot(t_est, f_est, label=\"Frequency estimates\")\n",
    "plt.plot([0, t_est[-1]], [f, f], label=\"True frequency\")\n",
    "plt.legend()\n"
   ],
   "metadata": {
    "collapsed": false,
    "ExecuteTime": {
     "end_time": "2024-10-20T00:08:46.801655Z",
     "start_time": "2024-10-20T00:08:46.237748700Z"
    }
   },
   "id": "da262f35db479cdd",
   "execution_count": 1
  }
 ],
 "metadata": {
  "kernelspec": {
   "display_name": "Python 3",
   "language": "python",
   "name": "python3"
  },
  "language_info": {
   "codemirror_mode": {
    "name": "ipython",
    "version": 2
   },
   "file_extension": ".py",
   "mimetype": "text/x-python",
   "name": "python",
   "nbconvert_exporter": "python",
   "pygments_lexer": "ipython2",
   "version": "2.7.6"
  }
 },
 "nbformat": 4,
 "nbformat_minor": 5
}
