{
 "cells": [
  {
   "cell_type": "markdown",
   "id": "fa3fc3d9-4f36-438b-b6bf-948860da75ed",
   "metadata": {
    "editable": true,
    "slideshow": {
     "slide_type": "slide"
    },
    "tags": []
   },
   "source": [
    "# Test 1: Frequency \"step\"\n",
    "\n",
    "Many improvements to the frequency detection system are possible, and some of them may involve extending the window of signal samples used to calculate the frequency estimate. As such, it will be useful to keep track of how fast our algorithm can track changes in frequency. The simplest way to test for this is to generate simulated signals consisting of two sinusoids with different frequency back-to-back, and comparing the output to the true frequency content used for signal generation.\n",
    "\n",
    "Create a python program which generates a test signal as described above, and feeds it into the attached function `freq_detection`. Subsequently, your program should provide an analysis of the outuput from the function `freq_detection`, which can take the form of a plot showing the frequency detection system's response time to changes in frequency. This will be useful when evaluating the frequency detection system's adherence to the the following design parameter: *\"The algorithm must be able to adapt to changes in fundamental frequency within $0.5$ seconds, with samples more than $0.5$ seconds old having negligible influence.\"*"
   ]
  },
  {
   "cell_type": "code",
   "execution_count": null,
   "id": "49ae36d9-d986-44d1-8d1e-047a5742bf74",
   "metadata": {
    "deletable": false,
    "nbgrader": {
     "cell_type": "code",
     "checksum": "b6ee987e1914922e511290e4154bbf99",
     "grade": true,
     "grade_id": "cell-0ed39a363f08830b",
     "locked": false,
     "points": 1,
     "schema_version": 3,
     "solution": true,
     "task": false
    }
   },
   "outputs": [],
   "source": [
    "from baseline_algorithm import freq_detection\n",
    "# WRITE YOUR CODE IN THIS CELL:"
   ]
  },
  {
   "cell_type": "markdown",
   "id": "a5ac381c-ab2f-49af-9c1b-f9ca00d0a6de",
   "metadata": {},
   "source": [
    "[Here](Figures/FreqStepTest_LF.png) is an image showing a *suggestion* for what your test output may look like when simulating a single frequency step, using two different window lengths as basis for analysis in the frequency detection algorithm."
   ]
  }
 ],
 "metadata": {
  "kernelspec": {
   "display_name": "Python 3 (ipykernel)",
   "language": "python",
   "name": "python3"
  },
  "language_info": {
   "codemirror_mode": {
    "name": "ipython",
    "version": 3
   },
   "file_extension": ".py",
   "mimetype": "text/x-python",
   "name": "python",
   "nbconvert_exporter": "python",
   "pygments_lexer": "ipython3",
   "version": "3.12.2"
  },
  "toc": {
   "base_numbering": 1
  }
 },
 "nbformat": 4,
 "nbformat_minor": 5
}
