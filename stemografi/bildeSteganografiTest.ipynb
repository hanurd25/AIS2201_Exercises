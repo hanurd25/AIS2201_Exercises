{
 "cells": [
  {
   "cell_type": "code",
   "execution_count": 1,
   "id": "initial_id",
   "metadata": {
    "collapsed": true,
    "ExecuteTime": {
     "end_time": "2024-10-03T12:46:14.226307900Z",
     "start_time": "2024-10-03T12:46:13.894278500Z"
    }
   },
   "outputs": [
    {
     "ename": "NameError",
     "evalue": "name 'xrange' is not defined",
     "output_type": "error",
     "traceback": [
      "\u001B[1;31m---------------------------------------------------------------------------\u001B[0m",
      "\u001B[1;31mNameError\u001B[0m                                 Traceback (most recent call last)",
      "Cell \u001B[1;32mIn[1], line 6\u001B[0m\n\u001B[0;32m      3\u001B[0m      \u001B[38;5;66;03m#Encryption\u001B[39;00m\n\u001B[0;32m      5\u001B[0m im\u001B[38;5;241m=\u001B[39m Image\u001B[38;5;241m.\u001B[39mopen(\u001B[38;5;124m\"\u001B[39m\u001B[38;5;124mC:\u001B[39m\u001B[38;5;130;01m\\\\\u001B[39;00m\u001B[38;5;124mUsers\u001B[39m\u001B[38;5;130;01m\\\\\u001B[39;00m\u001B[38;5;124mhanur\u001B[39m\u001B[38;5;130;01m\\\\\u001B[39;00m\u001B[38;5;124mDocuments\u001B[39m\u001B[38;5;130;01m\\\\\u001B[39;00m\u001B[38;5;124mUNIVERSITY\u001B[39m\u001B[38;5;130;01m\\\\\u001B[39;00m\u001B[38;5;124msignalbehandlingAIS2201\u001B[39m\u001B[38;5;130;01m\\\\\u001B[39;00m\u001B[38;5;124maudiosteganografi\u001B[39m\u001B[38;5;130;01m\\\\\u001B[39;00m\u001B[38;5;124mhaodegdamelldllelolah.png\u001B[39m\u001B[38;5;124m\"\u001B[39m)\n\u001B[1;32m----> 6\u001B[0m im1 \u001B[38;5;241m=\u001B[39m \u001B[43mstepic\u001B[49m\u001B[38;5;241;43m.\u001B[39;49m\u001B[43mencode\u001B[49m\u001B[43m(\u001B[49m\u001B[43mim\u001B[49m\u001B[43m,\u001B[49m\u001B[43m \u001B[49m\u001B[38;5;124;43mb\u001B[39;49m\u001B[38;5;124;43m'\u001B[39;49m\u001B[38;5;124;43mHello Python\u001B[39;49m\u001B[38;5;124;43m'\u001B[39;49m\u001B[43m)\u001B[49m\n\u001B[0;32m      7\u001B[0m im1\u001B[38;5;241m.\u001B[39msave(\u001B[38;5;124m\"\u001B[39m\u001B[38;5;124mC:\u001B[39m\u001B[38;5;130;01m\\\\\u001B[39;00m\u001B[38;5;124mUsers\u001B[39m\u001B[38;5;130;01m\\\\\u001B[39;00m\u001B[38;5;124mhanur\u001B[39m\u001B[38;5;130;01m\\\\\u001B[39;00m\u001B[38;5;124mDocuments\u001B[39m\u001B[38;5;130;01m\\\\\u001B[39;00m\u001B[38;5;124mUNIVERSITY\u001B[39m\u001B[38;5;130;01m\\\\\u001B[39;00m\u001B[38;5;124msignalbehandlingAIS2201\u001B[39m\u001B[38;5;130;01m\\\\\u001B[39;00m\u001B[38;5;124maudiosteganografi\u001B[39m\u001B[38;5;130;01m\\\\\u001B[39;00m\u001B[38;5;124mencruptedImg.png\u001B[39m\u001B[38;5;124m\"\u001B[39m)\n\u001B[0;32m      8\u001B[0m im1 \u001B[38;5;241m=\u001B[39m Image\u001B[38;5;241m.\u001B[39mopen(\u001B[38;5;124m\"\u001B[39m\u001B[38;5;124mC:\u001B[39m\u001B[38;5;130;01m\\\\\u001B[39;00m\u001B[38;5;124mUsers\u001B[39m\u001B[38;5;130;01m\\\\\u001B[39;00m\u001B[38;5;124mhanur\u001B[39m\u001B[38;5;130;01m\\\\\u001B[39;00m\u001B[38;5;124mDocuments\u001B[39m\u001B[38;5;130;01m\\\\\u001B[39;00m\u001B[38;5;124mUNIVERSITY\u001B[39m\u001B[38;5;130;01m\\\\\u001B[39;00m\u001B[38;5;124msignalbehandlingAIS2201\u001B[39m\u001B[38;5;130;01m\\\\\u001B[39;00m\u001B[38;5;124maudiosteganografi\u001B[39m\u001B[38;5;130;01m\\\\\u001B[39;00m\u001B[38;5;124mencruptedImg.png\u001B[39m\u001B[38;5;124m\"\u001B[39m)\n",
      "File \u001B[1;32m~\\AppData\\Local\\Programs\\Python\\Python312\\Lib\\site-packages\\stepic.py:89\u001B[0m, in \u001B[0;36mencode\u001B[1;34m(image, data)\u001B[0m\n\u001B[0;32m     85\u001B[0m \u001B[38;5;250m\u001B[39m\u001B[38;5;124;03m'''generates an image with hidden data, starting with an existing\u001B[39;00m\n\u001B[0;32m     86\u001B[0m \u001B[38;5;124;03mimage and arbitrary data'''\u001B[39;00m\n\u001B[0;32m     88\u001B[0m image \u001B[38;5;241m=\u001B[39m image\u001B[38;5;241m.\u001B[39mcopy()\n\u001B[1;32m---> 89\u001B[0m \u001B[43mencode_inplace\u001B[49m\u001B[43m(\u001B[49m\u001B[43mimage\u001B[49m\u001B[43m,\u001B[49m\u001B[43m \u001B[49m\u001B[43mdata\u001B[49m\u001B[43m)\u001B[49m\n\u001B[0;32m     90\u001B[0m \u001B[38;5;28;01mreturn\u001B[39;00m image\n",
      "File \u001B[1;32m~\\AppData\\Local\\Programs\\Python\\Python312\\Lib\\site-packages\\stepic.py:75\u001B[0m, in \u001B[0;36mencode_inplace\u001B[1;34m(image, data)\u001B[0m\n\u001B[0;32m     73\u001B[0m w \u001B[38;5;241m=\u001B[39m image\u001B[38;5;241m.\u001B[39msize[\u001B[38;5;241m0\u001B[39m]\n\u001B[0;32m     74\u001B[0m (x, y) \u001B[38;5;241m=\u001B[39m (\u001B[38;5;241m0\u001B[39m, \u001B[38;5;241m0\u001B[39m)\n\u001B[1;32m---> 75\u001B[0m \u001B[43m\u001B[49m\u001B[38;5;28;43;01mfor\u001B[39;49;00m\u001B[43m \u001B[49m\u001B[43mpixel\u001B[49m\u001B[43m \u001B[49m\u001B[38;5;129;43;01min\u001B[39;49;00m\u001B[43m \u001B[49m\u001B[43mencode_imdata\u001B[49m\u001B[43m(\u001B[49m\u001B[43mimage\u001B[49m\u001B[38;5;241;43m.\u001B[39;49m\u001B[43mgetdata\u001B[49m\u001B[43m(\u001B[49m\u001B[43m)\u001B[49m\u001B[43m,\u001B[49m\u001B[43m \u001B[49m\u001B[43mdata\u001B[49m\u001B[43m)\u001B[49m\u001B[43m:\u001B[49m\n\u001B[0;32m     76\u001B[0m \u001B[43m    \u001B[49m\u001B[43mimage\u001B[49m\u001B[38;5;241;43m.\u001B[39;49m\u001B[43mputpixel\u001B[49m\u001B[43m(\u001B[49m\u001B[43m(\u001B[49m\u001B[43mx\u001B[49m\u001B[43m,\u001B[49m\u001B[43m \u001B[49m\u001B[43my\u001B[49m\u001B[43m)\u001B[49m\u001B[43m,\u001B[49m\u001B[43m \u001B[49m\u001B[43mpixel\u001B[49m\u001B[43m)\u001B[49m\n\u001B[0;32m     77\u001B[0m \u001B[43m    \u001B[49m\u001B[38;5;28;43;01mif\u001B[39;49;00m\u001B[43m \u001B[49m\u001B[43mx\u001B[49m\u001B[43m \u001B[49m\u001B[38;5;241;43m==\u001B[39;49m\u001B[43m \u001B[49m\u001B[43mw\u001B[49m\u001B[43m \u001B[49m\u001B[38;5;241;43m-\u001B[39;49m\u001B[43m \u001B[49m\u001B[38;5;241;43m1\u001B[39;49m\u001B[43m:\u001B[49m\n",
      "File \u001B[1;32m~\\AppData\\Local\\Programs\\Python\\Python312\\Lib\\site-packages\\stepic.py:55\u001B[0m, in \u001B[0;36mencode_imdata\u001B[1;34m(imdata, data)\u001B[0m\n\u001B[0;32m     51\u001B[0m     \u001B[38;5;28;01mraise\u001B[39;00m \u001B[38;5;167;01mValueError\u001B[39;00m(\u001B[38;5;124m'\u001B[39m\u001B[38;5;124mdata is too large for image\u001B[39m\u001B[38;5;124m'\u001B[39m)\n\u001B[0;32m     53\u001B[0m imdata \u001B[38;5;241m=\u001B[39m \u001B[38;5;28miter\u001B[39m(imdata)\n\u001B[1;32m---> 55\u001B[0m \u001B[38;5;28;01mfor\u001B[39;00m i \u001B[38;5;129;01min\u001B[39;00m \u001B[43mxrange\u001B[49m(datalen):\n\u001B[0;32m     56\u001B[0m     pixels \u001B[38;5;241m=\u001B[39m [value \u001B[38;5;241m&\u001B[39m \u001B[38;5;241m~\u001B[39m\u001B[38;5;241m1\u001B[39m \u001B[38;5;28;01mfor\u001B[39;00m value \u001B[38;5;129;01min\u001B[39;00m\n\u001B[0;32m     57\u001B[0m               imdata\u001B[38;5;241m.\u001B[39mnext()[:\u001B[38;5;241m3\u001B[39m] \u001B[38;5;241m+\u001B[39m imdata\u001B[38;5;241m.\u001B[39mnext()[:\u001B[38;5;241m3\u001B[39m] \u001B[38;5;241m+\u001B[39m imdata\u001B[38;5;241m.\u001B[39mnext()[:\u001B[38;5;241m3\u001B[39m]]\n\u001B[0;32m     58\u001B[0m     byte \u001B[38;5;241m=\u001B[39m \u001B[38;5;28mord\u001B[39m(data[i])\n",
      "\u001B[1;31mNameError\u001B[0m: name 'xrange' is not defined"
     ]
    }
   ],
   "source": [
    "from PIL import Image\n",
    "import stepic\n",
    "     #Encryption\n",
    "\n",
    "im= Image.open(\"C:\\\\Users\\\\hanur\\\\Documents\\\\UNIVERSITY\\\\signalbehandlingAIS2201\\\\audiosteganografi\\\\haodegdamelldllelolah.png\")\n",
    "im1 = stepic.encode(im, b'Hello Python')\n",
    "im1.save(\"C:\\\\Users\\\\hanur\\\\Documents\\\\UNIVERSITY\\\\signalbehandlingAIS2201\\\\audiosteganografi\\\\encruptedImg.png\")\n",
    "im1 = Image.open(\"C:\\\\Users\\\\hanur\\\\Documents\\\\UNIVERSITY\\\\signalbehandlingAIS2201\\\\audiosteganografi\\\\encruptedImg.png\")\n",
    "im1.show()\n",
    "\n",
    "    # Decryption\n",
    "im2 = Image.open(\"C:\\\\Users\\\\hanur\\\\Documents\\\\UNIVERSITY\\\\signalbehandlingAIS2201\\\\audiosteganografi\\\\encruptedImg.png\")\n",
    "Image = stepic.decode(im2)\n",
    "print(Image)"
   ]
  },
  {
   "cell_type": "code",
   "outputs": [],
   "source": [],
   "metadata": {
    "collapsed": false
   },
   "id": "e1762e22414570f7"
  }
 ],
 "metadata": {
  "kernelspec": {
   "display_name": "Python 3",
   "language": "python",
   "name": "python3"
  },
  "language_info": {
   "codemirror_mode": {
    "name": "ipython",
    "version": 2
   },
   "file_extension": ".py",
   "mimetype": "text/x-python",
   "name": "python",
   "nbconvert_exporter": "python",
   "pygments_lexer": "ipython2",
   "version": "2.7.6"
  }
 },
 "nbformat": 4,
 "nbformat_minor": 5
}
