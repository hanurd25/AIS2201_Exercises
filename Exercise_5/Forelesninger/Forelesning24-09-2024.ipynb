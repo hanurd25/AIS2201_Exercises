{
 "cells": [
  {
   "cell_type": "code",
   "execution_count": null,
   "id": "initial_id",
   "metadata": {
    "collapsed": true
   },
   "outputs": [],
   "source": [
    "#wr = u - n[n-4]\n",
    "#rektangulert vindu \n",
    "#\n",
    "# -(-2)-(-1)-(0)-(1)-(2)-(3)-(4)-(5)-------------------\n",
    "\n",
    "#Xw = \\zigma u[n] - u[n-4]*e^(-j w n)\n",
    "\n",
    "#\\zigma 1*e^(-j w n)  \n",
    "#evaluated on our not-zero samples from 0 to 3\n",
    "\n",
    "\n",
    "\n",
    "\n",
    "\n",
    "\n"
   ]
  },
  {
   "cell_type": "code",
   "outputs": [],
   "source": [
    "#ioosummering av vindusfunksjoner\n",
    "\n",
    "#motvirker spektral lekkasje\n",
    "#gjøres ved å multiplisere signalvinduet med lengde N sampler med en tilsvarende land vindusfunksjin før utregning av DFT\n",
    "\n",
    "\n"
   ],
   "metadata": {
    "collapsed": false
   },
   "id": "9f81dfeea15dd584"
  },
  {
   "cell_type": "code",
   "outputs": [],
   "source": [
    "\n",
    "\n",
    "\n",
    "\n",
    "|\n",
    "| x\n",
    "|\n",
    "|\n",
    "|         x\n",
    "|         |\n",
    "|         |\n",
    "|         |\n",
    "|         |\n",
    "|         |\n",
    "-----------------------------------------------------------"
   ],
   "metadata": {
    "collapsed": false
   },
   "id": "b41bd261bf130cfa"
  },
  {
   "cell_type": "code",
   "outputs": [],
   "source": [
    "fs, data\n",
    "xn = data/0x80000\n",
    "N = len(xn)\n",
    "#f_m = np.arange(0, N//2)*fs/N\n",
    "\n",
    "\n",
    "\n",
    "Xm = np.fft.rfft(xn)\n",
    "Pxx = 1/(N*fs)*np.abs(Xm)**2\n",
    "P_xx[1:-1] *= 2\n",
    "f_m = np.arange(0, len(P_xx))*fs/N\n",
    "\n",
    "\n",
    "# Mer oppløsning i frekvensaksen ----------->>>>>>>>> dårligere i tidsaksen\n"
   ],
   "metadata": {
    "collapsed": false
   },
   "id": "2398c570c053f413"
  }
 ],
 "metadata": {
  "kernelspec": {
   "display_name": "Python 3",
   "language": "python",
   "name": "python3"
  },
  "language_info": {
   "codemirror_mode": {
    "name": "ipython",
    "version": 2
   },
   "file_extension": ".py",
   "mimetype": "text/x-python",
   "name": "python",
   "nbconvert_exporter": "python",
   "pygments_lexer": "ipython2",
   "version": "2.7.6"
  }
 },
 "nbformat": 4,
 "nbformat_minor": 5
}
