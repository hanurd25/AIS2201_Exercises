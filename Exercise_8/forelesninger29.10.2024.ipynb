{
 "cells": [
  {
   "cell_type": "code",
   "execution_count": null,
   "id": "initial_id",
   "metadata": {
    "collapsed": true
   },
   "outputs": [],
   "source": [
    "#kan regne ut frekvensrespons i en linje med scipy funksjonen freqz"
   ]
  },
  {
   "cell_type": "code",
   "outputs": [
    {
     "ename": "ValueError",
     "evalue": "operands could not be broadcast together with shapes (32,) (17,) ",
     "output_type": "error",
     "traceback": [
      "\u001B[1;31m---------------------------------------------------------------------------\u001B[0m",
      "\u001B[1;31mValueError\u001B[0m                                Traceback (most recent call last)",
      "Cell \u001B[1;32mIn[3], line 11\u001B[0m\n\u001B[0;32m      9\u001B[0m Xm \u001B[38;5;241m=\u001B[39m np\u001B[38;5;241m.\u001B[39mfft\u001B[38;5;241m.\u001B[39mrfft(xn)\n\u001B[0;32m     10\u001B[0m Hm \u001B[38;5;241m=\u001B[39m np\u001B[38;5;241m.\u001B[39mwhere(m \u001B[38;5;241m>\u001B[39m \u001B[38;5;241m6\u001B[39m, \u001B[38;5;241m0\u001B[39m, \u001B[38;5;241m1\u001B[39m)\n\u001B[1;32m---> 11\u001B[0m Ym \u001B[38;5;241m=\u001B[39m \u001B[43mHm\u001B[49m\u001B[38;5;241;43m*\u001B[39;49m\u001B[43mXm\u001B[49m\n\u001B[0;32m     12\u001B[0m yn\u001B[38;5;241m=\u001B[39m np\u001B[38;5;241m.\u001B[39mfft\u001B[38;5;241m.\u001B[39mirfft(Ym)\n\u001B[0;32m     13\u001B[0m plt\u001B[38;5;241m.\u001B[39mfigure()\n",
      "\u001B[1;31mValueError\u001B[0m: operands could not be broadcast together with shapes (32,) (17,) "
     ]
    }
   ],
   "source": [
    "import numpy as np\n",
    "import matplotlib.pyplot as plt\n",
    "import scipy.signal as sig\n",
    "n = np.arange(32)\n",
    "hn = np.array([0.25, 0.5, 0.25])\n",
    "\n",
    "xn = sig.square(n*2*np.pi/16)\n",
    "m = np.arange(len(xn))\n",
    "Xm = np.fft.rfft(xn)\n",
    "Hm = np.where(m > 6, 0, 1)\n",
    "Ym = Hm*Xm\n",
    "yn= np.fft.irfft(Ym)\n",
    "plt.figure()\n",
    "plt.stem(Hm)\n",
    "plt.stem(n, xn)\n",
    "plt.stem(yn)\n",
    "#plt.stem(np.convolve(hn, xn), mark)"
   ],
   "metadata": {
    "collapsed": false,
    "ExecuteTime": {
     "end_time": "2024-10-29T08:52:09.281033100Z",
     "start_time": "2024-10-29T08:52:09.255355800Z"
    }
   },
   "id": "618109e8fc479c5f",
   "execution_count": 3
  },
  {
   "cell_type": "code",
   "outputs": [],
   "source": [],
   "metadata": {
    "collapsed": false
   },
   "id": "9642016f8439378c"
  }
 ],
 "metadata": {
  "kernelspec": {
   "display_name": "Python 3",
   "language": "python",
   "name": "python3"
  },
  "language_info": {
   "codemirror_mode": {
    "name": "ipython",
    "version": 2
   },
   "file_extension": ".py",
   "mimetype": "text/x-python",
   "name": "python",
   "nbconvert_exporter": "python",
   "pygments_lexer": "ipython2",
   "version": "2.7.6"
  }
 },
 "nbformat": 4,
 "nbformat_minor": 5
}
